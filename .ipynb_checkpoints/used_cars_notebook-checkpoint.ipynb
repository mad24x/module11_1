{
 "cells": [
  {
   "cell_type": "markdown",
   "metadata": {},
   "source": [
    "# What drives the price of a car?\n",
    "\n",
    "![](images/kurt.jpeg)"
   ]
  },
  {
   "cell_type": "markdown",
   "metadata": {},
   "source": [
    "**OVERVIEW**\n",
    "\n",
    "In this application, you will explore a dataset from kaggle. The original dataset contained information on 3 million used cars. The provided dataset contains information on 426K cars to ensure speed of processing.  Your goal is to understand what factors make a car more or less expensive.  As a result of your analysis, you should provide clear recommendations to your client -- a used car dealership -- as to what consumers value in a used car."
   ]
  },
  {
   "cell_type": "markdown",
   "metadata": {},
   "source": [
    "### CRISP-DM Framework\n",
    "\n",
    "<center>\n",
    "    <img src = images/crisp.png width = 50%/>\n",
    "</center>\n",
    "\n",
    "\n",
    "To frame the task, throughout our practical applications we will refer back to a standard process in industry for data projects called CRISP-DM.  This process provides a framework for working through a data problem.  Your first step in this application will be to read through a brief overview of CRISP-DM [here](https://mo-pcco.s3.us-east-1.amazonaws.com/BH-PCMLAI/module_11/readings_starter.zip).  After reading the overview, answer the questions below."
   ]
  },
  {
   "cell_type": "markdown",
   "metadata": {},
   "source": [
    "### Business Understanding\n",
    "\n",
    "From a business perspective, we are tasked with identifying key drivers for used car prices.  In the CRISP-DM overview, we are asked to convert this business framing to a data problem definition.  Using a few sentences, reframe the task as a data task with the appropriate technical vocabulary. "
   ]
  },
  {
   "cell_type": "markdown",
   "metadata": {},
   "source": [
    "### Data Mining Problem Definition:\n",
    "The business would like to predict the price of a car (target variable) using characteristics such as make, model, year, mileage, condition, etc. (features). The task is a supervised learning regression problem that aims to identify which features have the most significant impact on price and to what extent."
   ]
  },
  {
   "cell_type": "markdown",
   "metadata": {},
   "source": [
    "The data task is to develop a predictive model that estimates the price of a used car (target variable) based on various features, such as the car's make, model, year, mileage, condition, and other relevant factors. This is a supervised learning regression problem where the goal is to determine which features contribute most significantly to the variation in car prices and provide insights that can inform business strategies for the used car dealership."
   ]
  },
  {
   "cell_type": "code",
   "execution_count": null,
   "metadata": {},
   "outputs": [],
   "source": []
  },
  {
   "cell_type": "code",
   "execution_count": null,
   "metadata": {},
   "outputs": [],
   "source": []
  },
  {
   "cell_type": "markdown",
   "metadata": {},
   "source": [
    "### Data Understanding\n",
    "\n",
    "After considering the business understanding, we want to get familiar with our data.  Write down some steps that you would take to get to know the dataset and identify any quality issues within.  Take time to get to know the dataset and explore what information it contains and how this could be used to inform your business understanding."
   ]
  },
  {
   "cell_type": "markdown",
   "metadata": {},
   "source": [
    "To familiarize myself with the dataset, I would begin by examining the structure and content of the data. This involves reviewing the columns to understand what information is provided and determining if any columns are redundant or contain duplicate information that could be removed.\n",
    "\n",
    "Next, I would assess the dataset for missing values and decide on appropriate strategies for handling them—whether by removing incomplete rows or imputing missing data in a way that aligns with the nature of each column. Additionally, I would explore opportunities for grouping or categorizing data to derive meaningful insights, such as segmenting by regions, car brands, or similar model types.\n",
    "\n",
    "This exploratory phase would provide a deeper understanding of the dataset and help identify any quality issues that could affect the analysis, ultimately guiding decisions that support the business objectives.\n",
    "\n"
   ]
  },
  {
   "cell_type": "code",
   "execution_count": 1,
   "metadata": {},
   "outputs": [],
   "source": [
    "from sklearn.feature_selection import SequentialFeatureSelector\n",
    "from sklearn.preprocessing import OneHotEncoder, StandardScaler\n",
    "from sklearn.model_selection import GridSearchCV\n",
    "from sklearn.impute import SimpleImputer\n",
    "from sklearn.preprocessing import PolynomialFeatures\n",
    "from sklearn.model_selection import train_test_split\n",
    "from sklearn.linear_model import Ridge, Lasso\n",
    "from sklearn.model_selection import cross_val_score\n",
    "from sklearn.linear_model import LinearRegression\n",
    "from sklearn.metrics import mean_squared_error\n",
    "from sklearn.pipeline import Pipeline\n",
    "from sklearn import set_config\n",
    "from sklearn.compose import ColumnTransformer\n",
    "set_config(display=\"diagram\")\n",
    "\n",
    "import matplotlib.pyplot as plt\n",
    "import pandas as pd\n",
    "import numpy as np\n",
    "import seaborn as sns"
   ]
  },
  {
   "cell_type": "code",
   "execution_count": 2,
   "metadata": {},
   "outputs": [
    {
     "data": {
      "text/html": [
       "<div>\n",
       "<style scoped>\n",
       "    .dataframe tbody tr th:only-of-type {\n",
       "        vertical-align: middle;\n",
       "    }\n",
       "\n",
       "    .dataframe tbody tr th {\n",
       "        vertical-align: top;\n",
       "    }\n",
       "\n",
       "    .dataframe thead th {\n",
       "        text-align: right;\n",
       "    }\n",
       "</style>\n",
       "<table border=\"1\" class=\"dataframe\">\n",
       "  <thead>\n",
       "    <tr style=\"text-align: right;\">\n",
       "      <th></th>\n",
       "      <th>id</th>\n",
       "      <th>region</th>\n",
       "      <th>price</th>\n",
       "      <th>year</th>\n",
       "      <th>manufacturer</th>\n",
       "      <th>model</th>\n",
       "      <th>condition</th>\n",
       "      <th>cylinders</th>\n",
       "      <th>fuel</th>\n",
       "      <th>odometer</th>\n",
       "      <th>title_status</th>\n",
       "      <th>transmission</th>\n",
       "      <th>VIN</th>\n",
       "      <th>drive</th>\n",
       "      <th>size</th>\n",
       "      <th>type</th>\n",
       "      <th>paint_color</th>\n",
       "      <th>state</th>\n",
       "    </tr>\n",
       "  </thead>\n",
       "  <tbody>\n",
       "    <tr>\n",
       "      <th>0</th>\n",
       "      <td>7222695916</td>\n",
       "      <td>prescott</td>\n",
       "      <td>6000</td>\n",
       "      <td>NaN</td>\n",
       "      <td>NaN</td>\n",
       "      <td>NaN</td>\n",
       "      <td>NaN</td>\n",
       "      <td>NaN</td>\n",
       "      <td>NaN</td>\n",
       "      <td>NaN</td>\n",
       "      <td>NaN</td>\n",
       "      <td>NaN</td>\n",
       "      <td>NaN</td>\n",
       "      <td>NaN</td>\n",
       "      <td>NaN</td>\n",
       "      <td>NaN</td>\n",
       "      <td>NaN</td>\n",
       "      <td>az</td>\n",
       "    </tr>\n",
       "    <tr>\n",
       "      <th>1</th>\n",
       "      <td>7218891961</td>\n",
       "      <td>fayetteville</td>\n",
       "      <td>11900</td>\n",
       "      <td>NaN</td>\n",
       "      <td>NaN</td>\n",
       "      <td>NaN</td>\n",
       "      <td>NaN</td>\n",
       "      <td>NaN</td>\n",
       "      <td>NaN</td>\n",
       "      <td>NaN</td>\n",
       "      <td>NaN</td>\n",
       "      <td>NaN</td>\n",
       "      <td>NaN</td>\n",
       "      <td>NaN</td>\n",
       "      <td>NaN</td>\n",
       "      <td>NaN</td>\n",
       "      <td>NaN</td>\n",
       "      <td>ar</td>\n",
       "    </tr>\n",
       "    <tr>\n",
       "      <th>2</th>\n",
       "      <td>7221797935</td>\n",
       "      <td>florida keys</td>\n",
       "      <td>21000</td>\n",
       "      <td>NaN</td>\n",
       "      <td>NaN</td>\n",
       "      <td>NaN</td>\n",
       "      <td>NaN</td>\n",
       "      <td>NaN</td>\n",
       "      <td>NaN</td>\n",
       "      <td>NaN</td>\n",
       "      <td>NaN</td>\n",
       "      <td>NaN</td>\n",
       "      <td>NaN</td>\n",
       "      <td>NaN</td>\n",
       "      <td>NaN</td>\n",
       "      <td>NaN</td>\n",
       "      <td>NaN</td>\n",
       "      <td>fl</td>\n",
       "    </tr>\n",
       "    <tr>\n",
       "      <th>3</th>\n",
       "      <td>7222270760</td>\n",
       "      <td>worcester / central MA</td>\n",
       "      <td>1500</td>\n",
       "      <td>NaN</td>\n",
       "      <td>NaN</td>\n",
       "      <td>NaN</td>\n",
       "      <td>NaN</td>\n",
       "      <td>NaN</td>\n",
       "      <td>NaN</td>\n",
       "      <td>NaN</td>\n",
       "      <td>NaN</td>\n",
       "      <td>NaN</td>\n",
       "      <td>NaN</td>\n",
       "      <td>NaN</td>\n",
       "      <td>NaN</td>\n",
       "      <td>NaN</td>\n",
       "      <td>NaN</td>\n",
       "      <td>ma</td>\n",
       "    </tr>\n",
       "    <tr>\n",
       "      <th>4</th>\n",
       "      <td>7210384030</td>\n",
       "      <td>greensboro</td>\n",
       "      <td>4900</td>\n",
       "      <td>NaN</td>\n",
       "      <td>NaN</td>\n",
       "      <td>NaN</td>\n",
       "      <td>NaN</td>\n",
       "      <td>NaN</td>\n",
       "      <td>NaN</td>\n",
       "      <td>NaN</td>\n",
       "      <td>NaN</td>\n",
       "      <td>NaN</td>\n",
       "      <td>NaN</td>\n",
       "      <td>NaN</td>\n",
       "      <td>NaN</td>\n",
       "      <td>NaN</td>\n",
       "      <td>NaN</td>\n",
       "      <td>nc</td>\n",
       "    </tr>\n",
       "  </tbody>\n",
       "</table>\n",
       "</div>"
      ],
      "text/plain": [
       "           id                  region  price  year manufacturer model  \\\n",
       "0  7222695916                prescott   6000   NaN          NaN   NaN   \n",
       "1  7218891961            fayetteville  11900   NaN          NaN   NaN   \n",
       "2  7221797935            florida keys  21000   NaN          NaN   NaN   \n",
       "3  7222270760  worcester / central MA   1500   NaN          NaN   NaN   \n",
       "4  7210384030              greensboro   4900   NaN          NaN   NaN   \n",
       "\n",
       "  condition cylinders fuel  odometer title_status transmission  VIN drive  \\\n",
       "0       NaN       NaN  NaN       NaN          NaN          NaN  NaN   NaN   \n",
       "1       NaN       NaN  NaN       NaN          NaN          NaN  NaN   NaN   \n",
       "2       NaN       NaN  NaN       NaN          NaN          NaN  NaN   NaN   \n",
       "3       NaN       NaN  NaN       NaN          NaN          NaN  NaN   NaN   \n",
       "4       NaN       NaN  NaN       NaN          NaN          NaN  NaN   NaN   \n",
       "\n",
       "  size type paint_color state  \n",
       "0  NaN  NaN         NaN    az  \n",
       "1  NaN  NaN         NaN    ar  \n",
       "2  NaN  NaN         NaN    fl  \n",
       "3  NaN  NaN         NaN    ma  \n",
       "4  NaN  NaN         NaN    nc  "
      ]
     },
     "execution_count": 2,
     "metadata": {},
     "output_type": "execute_result"
    }
   ],
   "source": [
    "cars = pd.read_csv('data/vehicles.csv')\n",
    "cars.head()"
   ]
  },
  {
   "cell_type": "code",
   "execution_count": 3,
   "metadata": {},
   "outputs": [
    {
     "name": "stdout",
     "output_type": "stream",
     "text": [
      "<class 'pandas.core.frame.DataFrame'>\n",
      "RangeIndex: 426880 entries, 0 to 426879\n",
      "Data columns (total 18 columns):\n",
      " #   Column        Non-Null Count   Dtype  \n",
      "---  ------        --------------   -----  \n",
      " 0   id            426880 non-null  int64  \n",
      " 1   region        426880 non-null  object \n",
      " 2   price         426880 non-null  int64  \n",
      " 3   year          425675 non-null  float64\n",
      " 4   manufacturer  409234 non-null  object \n",
      " 5   model         421603 non-null  object \n",
      " 6   condition     252776 non-null  object \n",
      " 7   cylinders     249202 non-null  object \n",
      " 8   fuel          423867 non-null  object \n",
      " 9   odometer      422480 non-null  float64\n",
      " 10  title_status  418638 non-null  object \n",
      " 11  transmission  424324 non-null  object \n",
      " 12  VIN           265838 non-null  object \n",
      " 13  drive         296313 non-null  object \n",
      " 14  size          120519 non-null  object \n",
      " 15  type          334022 non-null  object \n",
      " 16  paint_color   296677 non-null  object \n",
      " 17  state         426880 non-null  object \n",
      "dtypes: float64(2), int64(2), object(14)\n",
      "memory usage: 58.6+ MB\n"
     ]
    }
   ],
   "source": [
    "cars.info()"
   ]
  },
  {
   "cell_type": "code",
   "execution_count": 4,
   "metadata": {},
   "outputs": [
    {
     "data": {
      "text/plain": [
       "region\n",
       "columbus                   3608\n",
       "jacksonville               3562\n",
       "spokane / coeur d'alene    2988\n",
       "eugene                     2985\n",
       "fresno / madera            2983\n",
       "                           ... \n",
       "meridian                     28\n",
       "southwest MS                 14\n",
       "kansas city                  11\n",
       "fort smith, AR                9\n",
       "west virginia (old)           8\n",
       "Name: count, Length: 404, dtype: int64"
      ]
     },
     "execution_count": 4,
     "metadata": {},
     "output_type": "execute_result"
    }
   ],
   "source": [
    "cars[\"region\"].value_counts()"
   ]
  },
  {
   "cell_type": "markdown",
   "metadata": {},
   "source": [
    "### Data Preparation\n",
    "\n",
    "After our initial exploration and fine tuning of the business understanding, it is time to construct our final dataset prior to modeling.  Here, we want to make sure to handle any integrity issues and cleaning, the engineering of new features, any transformations that we believe should happen (scaling, logarithms, normalization, etc.), and general preparation for modeling with `sklearn`. "
   ]
  },
  {
   "cell_type": "markdown",
   "metadata": {},
   "source": [
    "To familiarize myself with the dataset, I would begin by examining the structure and content of the data. This involves reviewing the columns to understand what information is provided and determining if any columns are redundant or contain duplicate information that could be removed.\n",
    "\n",
    "Next, I would assess the dataset for missing values and decide on appropriate strategies for handling them—whether by removing incomplete rows or imputing missing data in a way that aligns with the nature of each column. Additionally, I would explore opportunities for grouping or categorizing data to derive meaningful insights, such as segmenting by regions, car brands, or similar model types.\n",
    "\n",
    "This exploratory phase would provide a deeper understanding of the dataset and help identify any quality issues that could affect the analysis, ultimately guiding decisions that support the business objectives.\n",
    "\n"
   ]
  },
  {
   "cell_type": "code",
   "execution_count": 5,
   "metadata": {},
   "outputs": [],
   "source": [
    "df_ga = cars[cars['state'] == 'ga']"
   ]
  },
  {
   "cell_type": "code",
   "execution_count": 6,
   "metadata": {},
   "outputs": [],
   "source": [
    "df_ga = df_ga.drop(columns=['VIN', 'title_status', 'size','fuel','region'])"
   ]
  },
  {
   "cell_type": "code",
   "execution_count": 7,
   "metadata": {},
   "outputs": [
    {
     "name": "stdout",
     "output_type": "stream",
     "text": [
      "<class 'pandas.core.frame.DataFrame'>\n",
      "Index: 7003 entries, 120490 to 127492\n",
      "Data columns (total 13 columns):\n",
      " #   Column        Non-Null Count  Dtype  \n",
      "---  ------        --------------  -----  \n",
      " 0   id            7003 non-null   int64  \n",
      " 1   price         7003 non-null   int64  \n",
      " 2   year          6990 non-null   float64\n",
      " 3   manufacturer  6609 non-null   object \n",
      " 4   model         6926 non-null   object \n",
      " 5   condition     4612 non-null   object \n",
      " 6   cylinders     4074 non-null   object \n",
      " 7   odometer      6947 non-null   float64\n",
      " 8   transmission  6984 non-null   object \n",
      " 9   drive         4518 non-null   object \n",
      " 10  type          5650 non-null   object \n",
      " 11  paint_color   5194 non-null   object \n",
      " 12  state         7003 non-null   object \n",
      "dtypes: float64(2), int64(2), object(9)\n",
      "memory usage: 766.0+ KB\n"
     ]
    }
   ],
   "source": [
    "df_ga.info()"
   ]
  },
  {
   "cell_type": "code",
   "execution_count": 8,
   "metadata": {},
   "outputs": [],
   "source": [
    "df_ga.loc[:, 'condition'] = df_ga['condition'].fillna('unknown')"
   ]
  },
  {
   "cell_type": "code",
   "execution_count": 9,
   "metadata": {},
   "outputs": [
    {
     "data": {
      "text/html": [
       "<div>\n",
       "<style scoped>\n",
       "    .dataframe tbody tr th:only-of-type {\n",
       "        vertical-align: middle;\n",
       "    }\n",
       "\n",
       "    .dataframe tbody tr th {\n",
       "        vertical-align: top;\n",
       "    }\n",
       "\n",
       "    .dataframe thead th {\n",
       "        text-align: right;\n",
       "    }\n",
       "</style>\n",
       "<table border=\"1\" class=\"dataframe\">\n",
       "  <thead>\n",
       "    <tr style=\"text-align: right;\">\n",
       "      <th></th>\n",
       "      <th>id</th>\n",
       "      <th>price</th>\n",
       "      <th>year</th>\n",
       "      <th>manufacturer</th>\n",
       "      <th>model</th>\n",
       "      <th>condition</th>\n",
       "      <th>cylinders</th>\n",
       "      <th>odometer</th>\n",
       "      <th>transmission</th>\n",
       "      <th>drive</th>\n",
       "      <th>type</th>\n",
       "      <th>paint_color</th>\n",
       "      <th>state</th>\n",
       "    </tr>\n",
       "  </thead>\n",
       "  <tbody>\n",
       "    <tr>\n",
       "      <th>120490</th>\n",
       "      <td>7316841047</td>\n",
       "      <td>25990</td>\n",
       "      <td>2014.0</td>\n",
       "      <td>gmc</td>\n",
       "      <td>sierra 1500 regular cab</td>\n",
       "      <td>good</td>\n",
       "      <td>6 cylinders</td>\n",
       "      <td>15575.0</td>\n",
       "      <td>other</td>\n",
       "      <td>NaN</td>\n",
       "      <td>pickup</td>\n",
       "      <td>brown</td>\n",
       "      <td>ga</td>\n",
       "    </tr>\n",
       "    <tr>\n",
       "      <th>120491</th>\n",
       "      <td>7316841165</td>\n",
       "      <td>22590</td>\n",
       "      <td>2010.0</td>\n",
       "      <td>chevrolet</td>\n",
       "      <td>silverado 1500</td>\n",
       "      <td>good</td>\n",
       "      <td>8 cylinders</td>\n",
       "      <td>71229.0</td>\n",
       "      <td>other</td>\n",
       "      <td>NaN</td>\n",
       "      <td>pickup</td>\n",
       "      <td>blue</td>\n",
       "      <td>ga</td>\n",
       "    </tr>\n",
       "    <tr>\n",
       "      <th>120492</th>\n",
       "      <td>7316832300</td>\n",
       "      <td>9750</td>\n",
       "      <td>2009.0</td>\n",
       "      <td>ford</td>\n",
       "      <td>f150 supercab xlt 4x4</td>\n",
       "      <td>good</td>\n",
       "      <td>8 cylinders</td>\n",
       "      <td>197252.0</td>\n",
       "      <td>automatic</td>\n",
       "      <td>4wd</td>\n",
       "      <td>pickup</td>\n",
       "      <td>brown</td>\n",
       "      <td>ga</td>\n",
       "    </tr>\n",
       "    <tr>\n",
       "      <th>120493</th>\n",
       "      <td>7316774291</td>\n",
       "      <td>3300</td>\n",
       "      <td>2009.0</td>\n",
       "      <td>nissan</td>\n",
       "      <td>versa</td>\n",
       "      <td>unknown</td>\n",
       "      <td>4 cylinders</td>\n",
       "      <td>187000.0</td>\n",
       "      <td>automatic</td>\n",
       "      <td>NaN</td>\n",
       "      <td>NaN</td>\n",
       "      <td>NaN</td>\n",
       "      <td>ga</td>\n",
       "    </tr>\n",
       "    <tr>\n",
       "      <th>120494</th>\n",
       "      <td>7316768720</td>\n",
       "      <td>30990</td>\n",
       "      <td>2017.0</td>\n",
       "      <td>toyota</td>\n",
       "      <td>tundra double cab sr</td>\n",
       "      <td>good</td>\n",
       "      <td>8 cylinders</td>\n",
       "      <td>41124.0</td>\n",
       "      <td>other</td>\n",
       "      <td>NaN</td>\n",
       "      <td>pickup</td>\n",
       "      <td>red</td>\n",
       "      <td>ga</td>\n",
       "    </tr>\n",
       "    <tr>\n",
       "      <th>...</th>\n",
       "      <td>...</td>\n",
       "      <td>...</td>\n",
       "      <td>...</td>\n",
       "      <td>...</td>\n",
       "      <td>...</td>\n",
       "      <td>...</td>\n",
       "      <td>...</td>\n",
       "      <td>...</td>\n",
       "      <td>...</td>\n",
       "      <td>...</td>\n",
       "      <td>...</td>\n",
       "      <td>...</td>\n",
       "      <td>...</td>\n",
       "    </tr>\n",
       "    <tr>\n",
       "      <th>127488</th>\n",
       "      <td>7301778866</td>\n",
       "      <td>31995</td>\n",
       "      <td>2012.0</td>\n",
       "      <td>ram</td>\n",
       "      <td>chassis cab</td>\n",
       "      <td>unknown</td>\n",
       "      <td>NaN</td>\n",
       "      <td>218098.0</td>\n",
       "      <td>automatic</td>\n",
       "      <td>fwd</td>\n",
       "      <td>other</td>\n",
       "      <td>white</td>\n",
       "      <td>ga</td>\n",
       "    </tr>\n",
       "    <tr>\n",
       "      <th>127489</th>\n",
       "      <td>7301657489</td>\n",
       "      <td>4000</td>\n",
       "      <td>2013.0</td>\n",
       "      <td>toyota</td>\n",
       "      <td>yaris le 4dr h/b</td>\n",
       "      <td>unknown</td>\n",
       "      <td>4 cylinders</td>\n",
       "      <td>90000.0</td>\n",
       "      <td>automatic</td>\n",
       "      <td>fwd</td>\n",
       "      <td>hatchback</td>\n",
       "      <td>grey</td>\n",
       "      <td>ga</td>\n",
       "    </tr>\n",
       "    <tr>\n",
       "      <th>127490</th>\n",
       "      <td>7301599022</td>\n",
       "      <td>30990</td>\n",
       "      <td>2017.0</td>\n",
       "      <td>lexus</td>\n",
       "      <td>rx 350 sport utility 4d</td>\n",
       "      <td>good</td>\n",
       "      <td>NaN</td>\n",
       "      <td>34415.0</td>\n",
       "      <td>other</td>\n",
       "      <td>fwd</td>\n",
       "      <td>SUV</td>\n",
       "      <td>silver</td>\n",
       "      <td>ga</td>\n",
       "    </tr>\n",
       "    <tr>\n",
       "      <th>127491</th>\n",
       "      <td>7301598978</td>\n",
       "      <td>24590</td>\n",
       "      <td>2018.0</td>\n",
       "      <td>lincoln</td>\n",
       "      <td>mkz select sedan 4d</td>\n",
       "      <td>good</td>\n",
       "      <td>NaN</td>\n",
       "      <td>16081.0</td>\n",
       "      <td>automatic</td>\n",
       "      <td>fwd</td>\n",
       "      <td>sedan</td>\n",
       "      <td>white</td>\n",
       "      <td>ga</td>\n",
       "    </tr>\n",
       "    <tr>\n",
       "      <th>127492</th>\n",
       "      <td>7301598981</td>\n",
       "      <td>30590</td>\n",
       "      <td>2020.0</td>\n",
       "      <td>volvo</td>\n",
       "      <td>s60 t5 momentum sedan 4d</td>\n",
       "      <td>good</td>\n",
       "      <td>NaN</td>\n",
       "      <td>12029.0</td>\n",
       "      <td>other</td>\n",
       "      <td>fwd</td>\n",
       "      <td>sedan</td>\n",
       "      <td>red</td>\n",
       "      <td>ga</td>\n",
       "    </tr>\n",
       "  </tbody>\n",
       "</table>\n",
       "<p>6941 rows × 13 columns</p>\n",
       "</div>"
      ],
      "text/plain": [
       "                id  price    year manufacturer                     model  \\\n",
       "120490  7316841047  25990  2014.0          gmc   sierra 1500 regular cab   \n",
       "120491  7316841165  22590  2010.0    chevrolet            silverado 1500   \n",
       "120492  7316832300   9750  2009.0         ford     f150 supercab xlt 4x4   \n",
       "120493  7316774291   3300  2009.0       nissan                     versa   \n",
       "120494  7316768720  30990  2017.0       toyota      tundra double cab sr   \n",
       "...            ...    ...     ...          ...                       ...   \n",
       "127488  7301778866  31995  2012.0          ram               chassis cab   \n",
       "127489  7301657489   4000  2013.0       toyota          yaris le 4dr h/b   \n",
       "127490  7301599022  30990  2017.0        lexus   rx 350 sport utility 4d   \n",
       "127491  7301598978  24590  2018.0      lincoln       mkz select sedan 4d   \n",
       "127492  7301598981  30590  2020.0        volvo  s60 t5 momentum sedan 4d   \n",
       "\n",
       "       condition    cylinders  odometer transmission drive       type  \\\n",
       "120490      good  6 cylinders   15575.0        other   NaN     pickup   \n",
       "120491      good  8 cylinders   71229.0        other   NaN     pickup   \n",
       "120492      good  8 cylinders  197252.0    automatic   4wd     pickup   \n",
       "120493   unknown  4 cylinders  187000.0    automatic   NaN        NaN   \n",
       "120494      good  8 cylinders   41124.0        other   NaN     pickup   \n",
       "...          ...          ...       ...          ...   ...        ...   \n",
       "127488   unknown          NaN  218098.0    automatic   fwd      other   \n",
       "127489   unknown  4 cylinders   90000.0    automatic   fwd  hatchback   \n",
       "127490      good          NaN   34415.0        other   fwd        SUV   \n",
       "127491      good          NaN   16081.0    automatic   fwd      sedan   \n",
       "127492      good          NaN   12029.0        other   fwd      sedan   \n",
       "\n",
       "       paint_color state  \n",
       "120490       brown    ga  \n",
       "120491        blue    ga  \n",
       "120492       brown    ga  \n",
       "120493         NaN    ga  \n",
       "120494         red    ga  \n",
       "...            ...   ...  \n",
       "127488       white    ga  \n",
       "127489        grey    ga  \n",
       "127490      silver    ga  \n",
       "127491       white    ga  \n",
       "127492         red    ga  \n",
       "\n",
       "[6941 rows x 13 columns]"
      ]
     },
     "execution_count": 9,
     "metadata": {},
     "output_type": "execute_result"
    }
   ],
   "source": [
    "df_ga = df_ga[df_ga['price'] < 987654321]\n",
    "df_ga = df_ga[df_ga['odometer'] < 1000000]\n",
    "df_ga"
   ]
  },
  {
   "cell_type": "code",
   "execution_count": 10,
   "metadata": {},
   "outputs": [],
   "source": [
    "# Remove rows where odometer is 0\n",
    "df_ga = df_ga[df_ga['odometer'] !=0]"
   ]
  },
  {
   "cell_type": "code",
   "execution_count": 11,
   "metadata": {},
   "outputs": [
    {
     "data": {
      "text/plain": [
       "cylinders\n",
       "6.0     1756\n",
       "8.0     1202\n",
       "4.0      957\n",
       "10.0      36\n",
       "5.0       16\n",
       "3.0        9\n",
       "12.0       4\n",
       "Name: count, dtype: int64"
      ]
     },
     "execution_count": 11,
     "metadata": {},
     "output_type": "execute_result"
    }
   ],
   "source": [
    "# Drop rows where cylinders is missing or contains 'other'\n",
    "df_ga = df_ga.dropna(subset=['cylinders'])\n",
    "df_ga = df_ga[df_ga['cylinders'] != 'other']\n",
    "\n",
    "# Convert the cylinders column to numerical values\n",
    "df_ga['cylinders'] = df_ga['cylinders'].str.extract('(\\d+)').astype(float)\n",
    "\n",
    "df_ga['cylinders'].value_counts()"
   ]
  },
  {
   "cell_type": "code",
   "execution_count": 12,
   "metadata": {},
   "outputs": [
    {
     "name": "stdout",
     "output_type": "stream",
     "text": [
      "<class 'pandas.core.frame.DataFrame'>\n",
      "Index: 3980 entries, 120490 to 127489\n",
      "Data columns (total 13 columns):\n",
      " #   Column        Non-Null Count  Dtype  \n",
      "---  ------        --------------  -----  \n",
      " 0   id            3980 non-null   int64  \n",
      " 1   price         3980 non-null   int64  \n",
      " 2   year          3968 non-null   float64\n",
      " 3   manufacturer  3857 non-null   object \n",
      " 4   model         3941 non-null   object \n",
      " 5   condition     3980 non-null   object \n",
      " 6   cylinders     3980 non-null   float64\n",
      " 7   odometer      3980 non-null   float64\n",
      " 8   transmission  3980 non-null   object \n",
      " 9   drive         3126 non-null   object \n",
      " 10  type          3557 non-null   object \n",
      " 11  paint_color   3394 non-null   object \n",
      " 12  state         3980 non-null   object \n",
      "dtypes: float64(3), int64(2), object(8)\n",
      "memory usage: 435.3+ KB\n"
     ]
    }
   ],
   "source": [
    "df_ga.info()"
   ]
  },
  {
   "cell_type": "code",
   "execution_count": 13,
   "metadata": {},
   "outputs": [
    {
     "name": "stdout",
     "output_type": "stream",
     "text": [
      "<class 'pandas.core.frame.DataFrame'>\n",
      "Index: 3968 entries, 120490 to 127489\n",
      "Data columns (total 13 columns):\n",
      " #   Column        Non-Null Count  Dtype  \n",
      "---  ------        --------------  -----  \n",
      " 0   id            3968 non-null   int64  \n",
      " 1   price         3968 non-null   int64  \n",
      " 2   manufacturer  3857 non-null   object \n",
      " 3   model         3929 non-null   object \n",
      " 4   condition     3968 non-null   object \n",
      " 5   cylinders     3968 non-null   float64\n",
      " 6   odometer      3968 non-null   float64\n",
      " 7   transmission  3968 non-null   object \n",
      " 8   drive         3115 non-null   object \n",
      " 9   type          3547 non-null   object \n",
      " 10  paint_color   3382 non-null   object \n",
      " 11  state         3968 non-null   object \n",
      " 12  age           3968 non-null   float64\n",
      "dtypes: float64(3), int64(2), object(8)\n",
      "memory usage: 434.0+ KB\n"
     ]
    }
   ],
   "source": [
    "import datetime\n",
    "\n",
    "# Drop rows where 'year' is missing\n",
    "df_ga = df_ga.dropna(subset=['year'])\n",
    "\n",
    "# Get the current year\n",
    "current_year = datetime.datetime.now().year\n",
    "\n",
    "# Convert 'year' to age\n",
    "df_ga['age'] = current_year - df_ga['year']\n",
    "\n",
    "# Drop the original 'year' column\n",
    "df_ga = df_ga.drop(columns=['year'])\n",
    "\n",
    "df_ga.info()"
   ]
  },
  {
   "cell_type": "code",
   "execution_count": 14,
   "metadata": {},
   "outputs": [],
   "source": [
    "# dropping ID column\n",
    "df_ga = df_ga.drop(columns=['id']) "
   ]
  },
  {
   "cell_type": "code",
   "execution_count": 15,
   "metadata": {},
   "outputs": [],
   "source": [
    "#dropping the model column as it has so many model types. we will group by manufacturer for now\n",
    "df_ga = df_ga.drop(columns=['model'])"
   ]
  },
  {
   "cell_type": "code",
   "execution_count": 16,
   "metadata": {},
   "outputs": [
    {
     "data": {
      "text/plain": [
       "drive\n",
       "4wd        1088\n",
       "rwd        1080\n",
       "fwd         947\n",
       "unknown     853\n",
       "Name: count, dtype: int64"
      ]
     },
     "execution_count": 16,
     "metadata": {},
     "output_type": "execute_result"
    }
   ],
   "source": [
    "df_ga['drive'] = df_ga['drive'].fillna('unknown')\n",
    "\n",
    "df_ga['drive'].value_counts()"
   ]
  },
  {
   "cell_type": "code",
   "execution_count": 17,
   "metadata": {},
   "outputs": [],
   "source": [
    "df_ga['type'] = df_ga['type'].fillna('unknown')\n",
    "df_ga['paint_color'] = df_ga['paint_color'].fillna('unknown')\n",
    "df_ga['manufacturer'] = df_ga['manufacturer'].fillna('unknown')"
   ]
  },
  {
   "cell_type": "code",
   "execution_count": 18,
   "metadata": {},
   "outputs": [],
   "source": [
    "df_ga = df_ga.dropna(subset=['odometer'])"
   ]
  },
  {
   "cell_type": "code",
   "execution_count": null,
   "metadata": {},
   "outputs": [],
   "source": []
  },
  {
   "cell_type": "code",
   "execution_count": null,
   "metadata": {},
   "outputs": [],
   "source": []
  },
  {
   "cell_type": "code",
   "execution_count": null,
   "metadata": {},
   "outputs": [],
   "source": []
  },
  {
   "cell_type": "code",
   "execution_count": 19,
   "metadata": {},
   "outputs": [
    {
     "name": "stdout",
     "output_type": "stream",
     "text": [
      "<class 'pandas.core.frame.DataFrame'>\n",
      "Index: 3968 entries, 120490 to 127489\n",
      "Data columns (total 11 columns):\n",
      " #   Column        Non-Null Count  Dtype  \n",
      "---  ------        --------------  -----  \n",
      " 0   price         3968 non-null   int64  \n",
      " 1   manufacturer  3968 non-null   object \n",
      " 2   condition     3968 non-null   object \n",
      " 3   cylinders     3968 non-null   float64\n",
      " 4   odometer      3968 non-null   float64\n",
      " 5   transmission  3968 non-null   object \n",
      " 6   drive         3968 non-null   object \n",
      " 7   type          3968 non-null   object \n",
      " 8   paint_color   3968 non-null   object \n",
      " 9   state         3968 non-null   object \n",
      " 10  age           3968 non-null   float64\n",
      "dtypes: float64(3), int64(1), object(7)\n",
      "memory usage: 372.0+ KB\n"
     ]
    }
   ],
   "source": [
    "df_ga.info()"
   ]
  },
  {
   "cell_type": "markdown",
   "metadata": {},
   "source": [
    "### Modeling\n",
    "\n",
    "With your (almost?) final dataset in hand, it is now time to build some models.  Here, you should build a number of different regression models with the price as the target.  In building your models, you should explore different parameters and be sure to cross-validate your findings."
   ]
  },
  {
   "cell_type": "code",
   "execution_count": 20,
   "metadata": {},
   "outputs": [],
   "source": [
    "# Define target variable\n",
    "y = df_ga['price']\n",
    "\n",
    "# Define feature variables (X) by dropping the target column\n",
    "X = df_ga.drop(columns=['price'])\n",
    "X_train, X_test, y_train, y_test = train_test_split(X, y, test_size=0.2, random_state=42)\n",
    "\n",
    "y_train_log = np.log1p(y_train)\n",
    "y_test_log = np.log1p(y_test)"
   ]
  },
  {
   "cell_type": "code",
   "execution_count": 21,
   "metadata": {},
   "outputs": [
    {
     "name": "stdout",
     "output_type": "stream",
     "text": [
      "<class 'pandas.core.frame.DataFrame'>\n",
      "Index: 3174 entries, 122325 to 126187\n",
      "Data columns (total 10 columns):\n",
      " #   Column        Non-Null Count  Dtype  \n",
      "---  ------        --------------  -----  \n",
      " 0   manufacturer  3174 non-null   object \n",
      " 1   condition     3174 non-null   object \n",
      " 2   cylinders     3174 non-null   float64\n",
      " 3   odometer      3174 non-null   float64\n",
      " 4   transmission  3174 non-null   object \n",
      " 5   drive         3174 non-null   object \n",
      " 6   type          3174 non-null   object \n",
      " 7   paint_color   3174 non-null   object \n",
      " 8   state         3174 non-null   object \n",
      " 9   age           3174 non-null   float64\n",
      "dtypes: float64(3), object(7)\n",
      "memory usage: 272.8+ KB\n"
     ]
    }
   ],
   "source": [
    "categorical_features = ['manufacturer', 'condition', 'transmission', 'drive', 'type', 'paint_color']\n",
    "numerical_features = ['year', 'odometer','cylinders']\n",
    "\n",
    "X_train.info()"
   ]
  },
  {
   "cell_type": "code",
   "execution_count": 22,
   "metadata": {},
   "outputs": [],
   "source": [
    "# Define categorical and numerical columns\n",
    "categorical_features = [ 'manufacturer', 'condition', 'transmission', 'drive', 'type', 'paint_color']\n",
    "numerical_features = ['age', 'odometer','cylinders']\n",
    "\n",
    "# Create transformers for numerical and categorical features\n",
    "numeric_transformer = StandardScaler()\n",
    "\n",
    "\n",
    "categorical_transformer = Pipeline([\n",
    "    ('imputer', SimpleImputer(strategy='constant')),\n",
    "    ('onehot', OneHotEncoder(handle_unknown='ignore'))])\n",
    "\n",
    "# Combine transformers into a preprocessor\n",
    "preprocessor = ColumnTransformer(\n",
    "    transformers=[\n",
    "        ('num', numeric_transformer, numerical_features),\n",
    "        ('cat', categorical_transformer, categorical_features)\n",
    "    ]\n",
    ")\n"
   ]
  },
  {
   "cell_type": "code",
   "execution_count": 23,
   "metadata": {},
   "outputs": [],
   "source": [
    "pipelines = {\n",
    "    'Linear Regression': Pipeline(steps=[('preprocessor', preprocessor),\n",
    "                                         ('regressor', LinearRegression())]),\n",
    "    'Ridge Regression': Pipeline(steps=[('preprocessor', preprocessor),\n",
    "                                        ('regressor', Ridge())]),\n",
    "    'Lasso Regression': Pipeline(steps=[('preprocessor', preprocessor),\n",
    "                                        ('regressor', Lasso(max_iter=10000))])\n",
    "}"
   ]
  },
  {
   "cell_type": "code",
   "execution_count": 24,
   "metadata": {},
   "outputs": [
    {
     "data": {
      "text/html": [
       "<style>#sk-container-id-1 {color: black;background-color: white;}#sk-container-id-1 pre{padding: 0;}#sk-container-id-1 div.sk-toggleable {background-color: white;}#sk-container-id-1 label.sk-toggleable__label {cursor: pointer;display: block;width: 100%;margin-bottom: 0;padding: 0.3em;box-sizing: border-box;text-align: center;}#sk-container-id-1 label.sk-toggleable__label-arrow:before {content: \"▸\";float: left;margin-right: 0.25em;color: #696969;}#sk-container-id-1 label.sk-toggleable__label-arrow:hover:before {color: black;}#sk-container-id-1 div.sk-estimator:hover label.sk-toggleable__label-arrow:before {color: black;}#sk-container-id-1 div.sk-toggleable__content {max-height: 0;max-width: 0;overflow: hidden;text-align: left;background-color: #f0f8ff;}#sk-container-id-1 div.sk-toggleable__content pre {margin: 0.2em;color: black;border-radius: 0.25em;background-color: #f0f8ff;}#sk-container-id-1 input.sk-toggleable__control:checked~div.sk-toggleable__content {max-height: 200px;max-width: 100%;overflow: auto;}#sk-container-id-1 input.sk-toggleable__control:checked~label.sk-toggleable__label-arrow:before {content: \"▾\";}#sk-container-id-1 div.sk-estimator input.sk-toggleable__control:checked~label.sk-toggleable__label {background-color: #d4ebff;}#sk-container-id-1 div.sk-label input.sk-toggleable__control:checked~label.sk-toggleable__label {background-color: #d4ebff;}#sk-container-id-1 input.sk-hidden--visually {border: 0;clip: rect(1px 1px 1px 1px);clip: rect(1px, 1px, 1px, 1px);height: 1px;margin: -1px;overflow: hidden;padding: 0;position: absolute;width: 1px;}#sk-container-id-1 div.sk-estimator {font-family: monospace;background-color: #f0f8ff;border: 1px dotted black;border-radius: 0.25em;box-sizing: border-box;margin-bottom: 0.5em;}#sk-container-id-1 div.sk-estimator:hover {background-color: #d4ebff;}#sk-container-id-1 div.sk-parallel-item::after {content: \"\";width: 100%;border-bottom: 1px solid gray;flex-grow: 1;}#sk-container-id-1 div.sk-label:hover label.sk-toggleable__label {background-color: #d4ebff;}#sk-container-id-1 div.sk-serial::before {content: \"\";position: absolute;border-left: 1px solid gray;box-sizing: border-box;top: 0;bottom: 0;left: 50%;z-index: 0;}#sk-container-id-1 div.sk-serial {display: flex;flex-direction: column;align-items: center;background-color: white;padding-right: 0.2em;padding-left: 0.2em;position: relative;}#sk-container-id-1 div.sk-item {position: relative;z-index: 1;}#sk-container-id-1 div.sk-parallel {display: flex;align-items: stretch;justify-content: center;background-color: white;position: relative;}#sk-container-id-1 div.sk-item::before, #sk-container-id-1 div.sk-parallel-item::before {content: \"\";position: absolute;border-left: 1px solid gray;box-sizing: border-box;top: 0;bottom: 0;left: 50%;z-index: -1;}#sk-container-id-1 div.sk-parallel-item {display: flex;flex-direction: column;z-index: 1;position: relative;background-color: white;}#sk-container-id-1 div.sk-parallel-item:first-child::after {align-self: flex-end;width: 50%;}#sk-container-id-1 div.sk-parallel-item:last-child::after {align-self: flex-start;width: 50%;}#sk-container-id-1 div.sk-parallel-item:only-child::after {width: 0;}#sk-container-id-1 div.sk-dashed-wrapped {border: 1px dashed gray;margin: 0 0.4em 0.5em 0.4em;box-sizing: border-box;padding-bottom: 0.4em;background-color: white;}#sk-container-id-1 div.sk-label label {font-family: monospace;font-weight: bold;display: inline-block;line-height: 1.2em;}#sk-container-id-1 div.sk-label-container {text-align: center;}#sk-container-id-1 div.sk-container {/* jupyter's `normalize.less` sets `[hidden] { display: none; }` but bootstrap.min.css set `[hidden] { display: none !important; }` so we also need the `!important` here to be able to override the default hidden behavior on the sphinx rendered scikit-learn.org. See: https://github.com/scikit-learn/scikit-learn/issues/21755 */display: inline-block !important;position: relative;}#sk-container-id-1 div.sk-text-repr-fallback {display: none;}</style><div id=\"sk-container-id-1\" class=\"sk-top-container\"><div class=\"sk-text-repr-fallback\"><pre>GridSearchCV(cv=5,\n",
       "             estimator=Pipeline(steps=[(&#x27;preprocessor&#x27;,\n",
       "                                        ColumnTransformer(transformers=[(&#x27;num&#x27;,\n",
       "                                                                         StandardScaler(),\n",
       "                                                                         [&#x27;age&#x27;,\n",
       "                                                                          &#x27;odometer&#x27;,\n",
       "                                                                          &#x27;cylinders&#x27;]),\n",
       "                                                                        (&#x27;cat&#x27;,\n",
       "                                                                         Pipeline(steps=[(&#x27;imputer&#x27;,\n",
       "                                                                                          SimpleImputer(strategy=&#x27;constant&#x27;)),\n",
       "                                                                                         (&#x27;onehot&#x27;,\n",
       "                                                                                          OneHotEncoder(handle_unknown=&#x27;ignore&#x27;))]),\n",
       "                                                                         [&#x27;manufacturer&#x27;,\n",
       "                                                                          &#x27;condition&#x27;,\n",
       "                                                                          &#x27;transmission&#x27;,\n",
       "                                                                          &#x27;drive&#x27;,\n",
       "                                                                          &#x27;type&#x27;,\n",
       "                                                                          &#x27;paint_color&#x27;])])),\n",
       "                                       (&#x27;regressor&#x27;, Lasso(max_iter=10000))]),\n",
       "             param_grid={&#x27;regressor__alpha&#x27;: [0.0001, 0.001, 0.01, 0.1, 1, 10,\n",
       "                                              100]},\n",
       "             scoring=&#x27;neg_mean_squared_error&#x27;)</pre><b>In a Jupyter environment, please rerun this cell to show the HTML representation or trust the notebook. <br />On GitHub, the HTML representation is unable to render, please try loading this page with nbviewer.org.</b></div><div class=\"sk-container\" hidden><div class=\"sk-item sk-dashed-wrapped\"><div class=\"sk-label-container\"><div class=\"sk-label sk-toggleable\"><input class=\"sk-toggleable__control sk-hidden--visually\" id=\"sk-estimator-id-1\" type=\"checkbox\" ><label for=\"sk-estimator-id-1\" class=\"sk-toggleable__label sk-toggleable__label-arrow\">GridSearchCV</label><div class=\"sk-toggleable__content\"><pre>GridSearchCV(cv=5,\n",
       "             estimator=Pipeline(steps=[(&#x27;preprocessor&#x27;,\n",
       "                                        ColumnTransformer(transformers=[(&#x27;num&#x27;,\n",
       "                                                                         StandardScaler(),\n",
       "                                                                         [&#x27;age&#x27;,\n",
       "                                                                          &#x27;odometer&#x27;,\n",
       "                                                                          &#x27;cylinders&#x27;]),\n",
       "                                                                        (&#x27;cat&#x27;,\n",
       "                                                                         Pipeline(steps=[(&#x27;imputer&#x27;,\n",
       "                                                                                          SimpleImputer(strategy=&#x27;constant&#x27;)),\n",
       "                                                                                         (&#x27;onehot&#x27;,\n",
       "                                                                                          OneHotEncoder(handle_unknown=&#x27;ignore&#x27;))]),\n",
       "                                                                         [&#x27;manufacturer&#x27;,\n",
       "                                                                          &#x27;condition&#x27;,\n",
       "                                                                          &#x27;transmission&#x27;,\n",
       "                                                                          &#x27;drive&#x27;,\n",
       "                                                                          &#x27;type&#x27;,\n",
       "                                                                          &#x27;paint_color&#x27;])])),\n",
       "                                       (&#x27;regressor&#x27;, Lasso(max_iter=10000))]),\n",
       "             param_grid={&#x27;regressor__alpha&#x27;: [0.0001, 0.001, 0.01, 0.1, 1, 10,\n",
       "                                              100]},\n",
       "             scoring=&#x27;neg_mean_squared_error&#x27;)</pre></div></div></div><div class=\"sk-parallel\"><div class=\"sk-parallel-item\"><div class=\"sk-item\"><div class=\"sk-label-container\"><div class=\"sk-label sk-toggleable\"><input class=\"sk-toggleable__control sk-hidden--visually\" id=\"sk-estimator-id-2\" type=\"checkbox\" ><label for=\"sk-estimator-id-2\" class=\"sk-toggleable__label sk-toggleable__label-arrow\">estimator: Pipeline</label><div class=\"sk-toggleable__content\"><pre>Pipeline(steps=[(&#x27;preprocessor&#x27;,\n",
       "                 ColumnTransformer(transformers=[(&#x27;num&#x27;, StandardScaler(),\n",
       "                                                  [&#x27;age&#x27;, &#x27;odometer&#x27;,\n",
       "                                                   &#x27;cylinders&#x27;]),\n",
       "                                                 (&#x27;cat&#x27;,\n",
       "                                                  Pipeline(steps=[(&#x27;imputer&#x27;,\n",
       "                                                                   SimpleImputer(strategy=&#x27;constant&#x27;)),\n",
       "                                                                  (&#x27;onehot&#x27;,\n",
       "                                                                   OneHotEncoder(handle_unknown=&#x27;ignore&#x27;))]),\n",
       "                                                  [&#x27;manufacturer&#x27;, &#x27;condition&#x27;,\n",
       "                                                   &#x27;transmission&#x27;, &#x27;drive&#x27;,\n",
       "                                                   &#x27;type&#x27;, &#x27;paint_color&#x27;])])),\n",
       "                (&#x27;regressor&#x27;, Lasso(max_iter=10000))])</pre></div></div></div><div class=\"sk-serial\"><div class=\"sk-item\"><div class=\"sk-serial\"><div class=\"sk-item sk-dashed-wrapped\"><div class=\"sk-label-container\"><div class=\"sk-label sk-toggleable\"><input class=\"sk-toggleable__control sk-hidden--visually\" id=\"sk-estimator-id-3\" type=\"checkbox\" ><label for=\"sk-estimator-id-3\" class=\"sk-toggleable__label sk-toggleable__label-arrow\">preprocessor: ColumnTransformer</label><div class=\"sk-toggleable__content\"><pre>ColumnTransformer(transformers=[(&#x27;num&#x27;, StandardScaler(),\n",
       "                                 [&#x27;age&#x27;, &#x27;odometer&#x27;, &#x27;cylinders&#x27;]),\n",
       "                                (&#x27;cat&#x27;,\n",
       "                                 Pipeline(steps=[(&#x27;imputer&#x27;,\n",
       "                                                  SimpleImputer(strategy=&#x27;constant&#x27;)),\n",
       "                                                 (&#x27;onehot&#x27;,\n",
       "                                                  OneHotEncoder(handle_unknown=&#x27;ignore&#x27;))]),\n",
       "                                 [&#x27;manufacturer&#x27;, &#x27;condition&#x27;, &#x27;transmission&#x27;,\n",
       "                                  &#x27;drive&#x27;, &#x27;type&#x27;, &#x27;paint_color&#x27;])])</pre></div></div></div><div class=\"sk-parallel\"><div class=\"sk-parallel-item\"><div class=\"sk-item\"><div class=\"sk-label-container\"><div class=\"sk-label sk-toggleable\"><input class=\"sk-toggleable__control sk-hidden--visually\" id=\"sk-estimator-id-4\" type=\"checkbox\" ><label for=\"sk-estimator-id-4\" class=\"sk-toggleable__label sk-toggleable__label-arrow\">num</label><div class=\"sk-toggleable__content\"><pre>[&#x27;age&#x27;, &#x27;odometer&#x27;, &#x27;cylinders&#x27;]</pre></div></div></div><div class=\"sk-serial\"><div class=\"sk-item\"><div class=\"sk-estimator sk-toggleable\"><input class=\"sk-toggleable__control sk-hidden--visually\" id=\"sk-estimator-id-5\" type=\"checkbox\" ><label for=\"sk-estimator-id-5\" class=\"sk-toggleable__label sk-toggleable__label-arrow\">StandardScaler</label><div class=\"sk-toggleable__content\"><pre>StandardScaler()</pre></div></div></div></div></div></div><div class=\"sk-parallel-item\"><div class=\"sk-item\"><div class=\"sk-label-container\"><div class=\"sk-label sk-toggleable\"><input class=\"sk-toggleable__control sk-hidden--visually\" id=\"sk-estimator-id-6\" type=\"checkbox\" ><label for=\"sk-estimator-id-6\" class=\"sk-toggleable__label sk-toggleable__label-arrow\">cat</label><div class=\"sk-toggleable__content\"><pre>[&#x27;manufacturer&#x27;, &#x27;condition&#x27;, &#x27;transmission&#x27;, &#x27;drive&#x27;, &#x27;type&#x27;, &#x27;paint_color&#x27;]</pre></div></div></div><div class=\"sk-serial\"><div class=\"sk-item\"><div class=\"sk-serial\"><div class=\"sk-item\"><div class=\"sk-estimator sk-toggleable\"><input class=\"sk-toggleable__control sk-hidden--visually\" id=\"sk-estimator-id-7\" type=\"checkbox\" ><label for=\"sk-estimator-id-7\" class=\"sk-toggleable__label sk-toggleable__label-arrow\">SimpleImputer</label><div class=\"sk-toggleable__content\"><pre>SimpleImputer(strategy=&#x27;constant&#x27;)</pre></div></div></div><div class=\"sk-item\"><div class=\"sk-estimator sk-toggleable\"><input class=\"sk-toggleable__control sk-hidden--visually\" id=\"sk-estimator-id-8\" type=\"checkbox\" ><label for=\"sk-estimator-id-8\" class=\"sk-toggleable__label sk-toggleable__label-arrow\">OneHotEncoder</label><div class=\"sk-toggleable__content\"><pre>OneHotEncoder(handle_unknown=&#x27;ignore&#x27;)</pre></div></div></div></div></div></div></div></div></div></div><div class=\"sk-item\"><div class=\"sk-estimator sk-toggleable\"><input class=\"sk-toggleable__control sk-hidden--visually\" id=\"sk-estimator-id-9\" type=\"checkbox\" ><label for=\"sk-estimator-id-9\" class=\"sk-toggleable__label sk-toggleable__label-arrow\">Lasso</label><div class=\"sk-toggleable__content\"><pre>Lasso(max_iter=10000)</pre></div></div></div></div></div></div></div></div></div></div></div></div>"
      ],
      "text/plain": [
       "GridSearchCV(cv=5,\n",
       "             estimator=Pipeline(steps=[('preprocessor',\n",
       "                                        ColumnTransformer(transformers=[('num',\n",
       "                                                                         StandardScaler(),\n",
       "                                                                         ['age',\n",
       "                                                                          'odometer',\n",
       "                                                                          'cylinders']),\n",
       "                                                                        ('cat',\n",
       "                                                                         Pipeline(steps=[('imputer',\n",
       "                                                                                          SimpleImputer(strategy='constant')),\n",
       "                                                                                         ('onehot',\n",
       "                                                                                          OneHotEncoder(handle_unknown='ignore'))]),\n",
       "                                                                         ['manufacturer',\n",
       "                                                                          'condition',\n",
       "                                                                          'transmission',\n",
       "                                                                          'drive',\n",
       "                                                                          'type',\n",
       "                                                                          'paint_color'])])),\n",
       "                                       ('regressor', Lasso(max_iter=10000))]),\n",
       "             param_grid={'regressor__alpha': [0.0001, 0.001, 0.01, 0.1, 1, 10,\n",
       "                                              100]},\n",
       "             scoring='neg_mean_squared_error')"
      ]
     },
     "execution_count": 24,
     "metadata": {},
     "output_type": "execute_result"
    }
   ],
   "source": [
    "# Define parameter grids for Ridge and Lasso\n",
    "param_grid_ridge = {\n",
    "    'regressor__alpha': [0.0001, 0.001, 0.01, 0.1, 1, 10, 100]\n",
    "}\n",
    "\n",
    "param_grid_lasso = {\n",
    "    'regressor__alpha': [0.0001, 0.001, 0.01, 0.1, 1, 10, 100]\n",
    "}\n",
    "\n",
    "# Grid search for Ridge Regression\n",
    "grid_search_ridge = GridSearchCV(pipelines['Ridge Regression'], param_grid_ridge, cv=5, scoring='neg_mean_squared_error')\n",
    "grid_search_ridge.fit(X_train, y_train_log)\n",
    "\n",
    "#Grid search for Lasso Regression\n",
    "grid_search_lasso = GridSearchCV(pipelines['Lasso Regression'], param_grid_lasso, cv=5, scoring='neg_mean_squared_error')\n",
    "grid_search_lasso.fit(X_train, y_train_log)\n"
   ]
  },
  {
   "cell_type": "code",
   "execution_count": 25,
   "metadata": {},
   "outputs": [
    {
     "name": "stdout",
     "output_type": "stream",
     "text": [
      "Test MSE for Best Ridge Model: 6.83\n",
      "Test MSE for Best Lasso Model: 6.84\n"
     ]
    }
   ],
   "source": [
    "from sklearn.metrics import mean_squared_error\n",
    "\n",
    "# Best Ridge Model\n",
    "best_ridge = grid_search_ridge.best_estimator_\n",
    "y_pred_ridge = best_ridge.predict(X_test)\n",
    "mse_ridge = mean_squared_error(y_test_log, y_pred_ridge)\n",
    "print(f'Test MSE for Best Ridge Model: {mse_ridge:.2f}')\n",
    "\n",
    "# Best Lasso Model\n",
    "best_lasso = grid_search_lasso.best_estimator_\n",
    "y_pred_lasso = best_lasso.predict(X_test)\n",
    "mse_lasso = mean_squared_error(y_test_log, y_pred_lasso)\n",
    "print(f'Test MSE for Best Lasso Model: {mse_lasso:.2f}')"
   ]
  },
  {
   "cell_type": "code",
   "execution_count": 26,
   "metadata": {},
   "outputs": [
    {
     "name": "stdout",
     "output_type": "stream",
     "text": [
      "Test MSE for Linear Regression: 6.87\n"
     ]
    }
   ],
   "source": [
    "linear_pipeline = Pipeline(steps=[('preprocessor', preprocessor),\n",
    "                                  ('linear', LinearRegression())])\n",
    "\n",
    "linear_pipeline.fit(X_train, y_train_log)\n",
    "\n",
    "# Predict on the test set\n",
    "y_pred_linear = linear_pipeline.predict(X_test)\n",
    "\n",
    "# Calculate the MSE\n",
    "mse_linear = mean_squared_error(y_test_log, y_pred_linear)\n",
    "\n",
    "print(f'Test MSE for Linear Regression: {mse_linear:.2f}')"
   ]
  },
  {
   "cell_type": "code",
   "execution_count": null,
   "metadata": {},
   "outputs": [],
   "source": []
  },
  {
   "cell_type": "markdown",
   "metadata": {},
   "source": [
    "### Evaluation\n",
    "\n",
    "With some modeling accomplished, we aim to reflect on what we identify as a high quality model and what we are able to learn from this.  We should review our business objective and explore how well we can provide meaningful insight on drivers of used car prices.  Your goal now is to distill your findings and determine whether the earlier phases need revisitation and adjustment or if you have information of value to bring back to your client."
   ]
  },
  {
   "cell_type": "markdown",
   "metadata": {},
   "source": [
    "Key Findings\n",
    "Model Performance:\n",
    "\n",
    "The best models (Ridge and Lasso) achieved low Test MSE values (6.83 and 6.84). This indicates that my models can accurately predict prices based on the features provided.\n",
    "The performance suggests that the features used are relevant and contribute positively to price predictions.\n",
    "\n",
    "Data Cleaning Impact:\n",
    "\n",
    "Removing outliers (e.g., extreme prices and high odometer readings) led to significant improvements in model performance. This highlights the importance of data quality in predictive modeling.\n",
    "\n",
    "\n"
   ]
  },
  {
   "cell_type": "code",
   "execution_count": 27,
   "metadata": {},
   "outputs": [
    {
     "data": {
      "image/png": "[encoded data removed]",
      "text/plain": [
       "<Figure size 1000x600 with 1 Axes>"
      ]
     },
     "metadata": {},
     "output_type": "display_data"
    }
   ],
   "source": [
    "# Plot actual vs predicted values\n",
    "plt.figure(figsize=(10,6))\n",
    "plt.scatter(y_test_log, y_pred_linear, alpha=0.5, label='Linear')\n",
    "plt.scatter(y_test_log, y_pred_ridge, alpha=0.5, label='Ridge', color='red')\n",
    "plt.scatter(y_test_log, y_pred_lasso, alpha=0.5, label='Lasso', color='green')\n",
    "plt.plot([min(y_test_log), max(y_test_log)], [min(y_test_log), max(y_test_log)], color='black', linestyle='--')\n",
    "plt.xlabel('Actual Price')\n",
    "plt.ylabel('Predicted Price')\n",
    "plt.title('Actual vs Predicted Price')\n",
    "plt.legend()\n",
    "plt.show()\n"
   ]
  },
  {
   "cell_type": "code",
   "execution_count": null,
   "metadata": {},
   "outputs": [],
   "source": [
    "\n"
   ]
  },
  {
   "cell_type": "code",
   "execution_count": 28,
   "metadata": {},
   "outputs": [
    {
     "data": {
      "image/png": "[encoded data removed]",
      "text/plain": [
       "<Figure size 1000x600 with 1 Axes>"
      ]
     },
     "metadata": {},
     "output_type": "display_data"
    }
   ],
   "source": [
    "import numpy as np\n",
    "import matplotlib.pyplot as plt\n",
    "\n",
    "# Get feature names from your transformed dataset\n",
    "feature_names = preprocessor.get_feature_names_out()\n",
    "\n",
    "# Get coefficients for each model\n",
    "linear_coefs = linear_pipeline.named_steps['linear'].coef_\n",
    "ridge_coefs = best_ridge.named_steps['regressor'].coef_\n",
    "lasso_coefs = best_lasso.named_steps['regressor'].coef_\n",
    "\n",
    "linear_top_3_idx = np.argsort(np.abs(linear_coefs))[-9:]\n",
    "ridge_top_3_idx = np.argsort(np.abs(ridge_coefs))[-9:]\n",
    "lasso_top_3_idx = np.argsort(np.abs(lasso_coefs))[-9:]\n",
    "\n",
    "# Get the corresponding feature names and coefficients\n",
    "linear_top_3_features = feature_names[linear_top_3_idx]\n",
    "ridge_top_3_features = feature_names[ridge_top_3_idx]\n",
    "lasso_top_3_features = feature_names[lasso_top_3_idx]\n",
    "\n",
    "linear_top_3_coefs = linear_coefs[linear_top_3_idx]\n",
    "ridge_top_3_coefs = ridge_coefs[ridge_top_3_idx]\n",
    "lasso_top_3_coefs = lasso_coefs[lasso_top_3_idx]\n",
    "\n",
    "# Plotting\n",
    "x = np.arange(9)  # 9 features\n",
    "width = 0.2  # Width of the bars\n",
    "\n",
    "fig, ax = plt.subplots(figsize=(10, 6))\n",
    "\n",
    "# Linear model\n",
    "ax.bar(x - width, linear_top_3_coefs, width, label='Linear Regression', color='b')\n",
    "\n",
    "# Ridge model\n",
    "ax.bar(x, ridge_top_3_coefs, width, label='Ridge Regression', color='g')\n",
    "\n",
    "# Lasso model\n",
    "ax.bar(x + width, lasso_top_3_coefs, width, label='Lasso Regression', color='r')\n",
    "\n",
    "# Add labels\n",
    "ax.set_xlabel('Features')\n",
    "ax.set_title('Top 9 Features by Coefficients for Each Model')\n",
    "ax.set_xticks(x)\n",
    "plt.xticks(rotation=45)\n",
    "ax.set_xticklabels(linear_top_3_features)  # Assuming feature names are the same\n",
    "\n",
    "ax.legend()\n",
    "\n",
    "plt.show()"
   ]
  },
  {
   "cell_type": "code",
   "execution_count": null,
   "metadata": {},
   "outputs": [],
   "source": []
  },
  {
   "cell_type": "code",
   "execution_count": null,
   "metadata": {},
   "outputs": [],
   "source": []
  },
  {
   "cell_type": "markdown",
   "metadata": {},
   "source": [
    "### Deployment\n",
    "\n",
    "Now that we've settled on our models and findings, it is time to deliver the information to the client.  You should organize your work as a basic report that details your primary findings.  Keep in mind that your audience is a group of used car dealers interested in fine tuning their inventory."
   ]
  },
  {
   "cell_type": "markdown",
   "metadata": {},
   "source": [
    "Data Overview\n",
    "Region Focus: The models were focused on cars listed in the state of Georgia. This approach allowed the model to analyze localized trends. Next steps would include evaluating different regions in the dataset to compare trends across geographical locations.\n"
   ]
  },
  {
   "cell_type": "markdown",
   "metadata": {},
   "source": [
    "Data Quality: The dataset contained a significant amount of missing data and nonsensical entries (e.g., impossible values for mileage or price). Future data cleaning would be essential for more reliable insights. This indicates that the raw data needs more attention before building models at scale."
   ]
  },
  {
   "cell_type": "markdown",
   "metadata": {},
   "source": [
    "Feature Importance and Insights\n",
    "Manufacturer Impact: Initially, the OneHotEncoding of the \"manufacturer\" column resulted in those features showing the highest correlation with price. However, this may have obscured the impact of other key variables."
   ]
  },
  {
   "cell_type": "markdown",
   "metadata": {},
   "source": [
    "Condition of the Car: After removing the \"manufacturer\" column, the model found that the condition of the car emerged as the most influential feature in predicting price. This insight can guide dealers in understanding the importance of car condition in pricing strategies.  This was done on a different notebook just for curiousity sake."
   ]
  },
  {
   "cell_type": "markdown",
   "metadata": {},
   "source": [
    "Next Steps\n",
    "Expanding to Other Regions: I recommend expanding the analysis to include cars from different regions to identify localized price drivers.\n",
    "Data Review: A thorough review and cleaning of the dataset will enhance the accuracy and reliability of the model."
   ]
  },
  {
   "cell_type": "markdown",
   "metadata": {},
   "source": [
    "Profitability Insights\n",
    "Profit Margin Analysis: In addition to predicting the price of a used car, incorporating the profit made on each vehicle would provide even more valuable insights. By analyzing which vehicles are the most profitable, dealerships could fine-tune their inventory to focus on higher-margin cars. This would allow them to maximize their return on investment and better understand the relationship between certain car features and profitability."
   ]
  },
  {
   "cell_type": "code",
   "execution_count": null,
   "metadata": {},
   "outputs": [],
   "source": []
  }
 ],
 "metadata": {
  "kernelspec": {
   "display_name": "Python 3 (ipykernel)",
   "language": "python",
   "name": "python3"
  },
  "language_info": {
   "codemirror_mode": {
    "name": "ipython",
    "version": 3
   },
   "file_extension": ".py",
   "mimetype": "text/x-python",
   "name": "python",
   "nbconvert_exporter": "python",
   "pygments_lexer": "ipython3",
   "version": "3.11.7"
  },
  "widgets": {
   "application/vnd.jupyter.widget-state+json": {
    "state": {},
    "version_major": 2,
    "version_minor": 0
   }
  }
 },
 "nbformat": 4,
 "nbformat_minor": 4
}
